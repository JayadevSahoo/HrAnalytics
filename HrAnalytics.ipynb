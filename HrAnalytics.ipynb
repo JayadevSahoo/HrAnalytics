{
 "cells": [
  {
   "cell_type": "code",
   "execution_count": 1,
   "metadata": {},
   "outputs": [
    {
     "name": "stderr",
     "output_type": "stream",
     "text": [
      "Using TensorFlow backend.\n"
     ]
    }
   ],
   "source": [
    "import pandas as pd\n",
    "from sklearn.linear_model import LogisticRegression\n",
    "from sklearn.ensemble import RandomForestClassifier\n",
    "from sklearn.neighbors import KNeighborsClassifier\n",
    "import tensorflow as tf\n",
    "from keras.models import Sequential\n",
    "from keras.layers import Dense"
   ]
  },
  {
   "cell_type": "code",
   "execution_count": 2,
   "metadata": {},
   "outputs": [],
   "source": [
    "train_data=pd.read_csv('C:\\\\Users\\\\jaya\\\\Desktop\\\\hr_analytics\\\\train_data.csv')\n",
    "test_data=pd.read_csv('C:\\\\Users\\\\jaya\\\\Desktop\\\\hr_analytics\\\\test_data.csv')"
   ]
  },
  {
   "cell_type": "code",
   "execution_count": 3,
   "metadata": {},
   "outputs": [],
   "source": [
    "train_data['KPIs_met']=train_data['KPIs_met >80%']\n",
    "test_data['KPIs_met']=test_data['KPIs_met >80%']"
   ]
  },
  {
   "cell_type": "code",
   "execution_count": 4,
   "metadata": {},
   "outputs": [],
   "source": [
    "train_data['awards_won']=train_data['awards_won?']\n",
    "test_data['awards_won']=test_data['awards_won?']"
   ]
  },
  {
   "cell_type": "code",
   "execution_count": 5,
   "metadata": {},
   "outputs": [],
   "source": [
    "train_data=train_data.drop(['KPIs_met >80%'],axis=1)\n",
    "test_data=test_data.drop(['KPIs_met >80%'],axis=1)\n",
    "train_data=train_data.drop(['awards_won?'],axis=1)\n",
    "test_data=test_data.drop(['awards_won?'],axis=1)"
   ]
  },
  {
   "cell_type": "code",
   "execution_count": 6,
   "metadata": {},
   "outputs": [],
   "source": [
    "train_data['gender']=train_data['gender'].apply(lambda x: 1 if (x =='f') else 0)\n",
    "train_data['recruitment_channel']=train_data['recruitment_channel'].apply(lambda x:1 if (x=='sourcing') else 0)\n",
    "train_data['education']=train_data['education'].apply(lambda x:-1 if(pd.isnull(x)) else x)\n",
    "train_data['education']=train_data['education'].apply(lambda x:0 if(x=='Bachelor\\'s' and (pd.notnull(x))) else 1)\n",
    "train_data['previous_year_rating']=train_data['previous_year_rating'].apply(lambda x:0.0 if(pd.isnull(x)) else x)\n",
    "train_data['department']=train_data['department'].apply(lambda x:1 if(x=='Sales & Marketing') else x)\n",
    "train_data['department']=train_data['department'].apply(lambda x:2 if(x=='Operations') else x)\n",
    "train_data['department']=train_data['department'].apply(lambda x:3 if(x=='Technology') else x)\n",
    "train_data['department']=train_data['department'].apply(lambda x:4 if(x=='Analytics') else x)\n",
    "train_data['department']=train_data['department'].apply(lambda x:5 if(x=='R&D') else x)\n",
    "train_data['department']=train_data['department'].apply(lambda x:6 if(x=='Procurement') else x)\n",
    "train_data['department']=train_data['department'].apply(lambda x:7 if(x=='Finance') else x)\n",
    "train_data['department']=train_data['department'].apply(lambda x:8 if(x=='HR') else x)\n",
    "train_data['department']=train_data['department'].apply(lambda x:9 if(x=='Legal') else x)"
   ]
  },
  {
   "cell_type": "code",
   "execution_count": 7,
   "metadata": {},
   "outputs": [],
   "source": [
    "test_data['gender']=test_data['gender'].apply(lambda x: 1 if (x =='f') else 0)\n",
    "test_data['recruitment_channel']=test_data['recruitment_channel'].apply(lambda x:1 if (x=='sourcing') else 0)\n",
    "test_data['education']=test_data['education'].apply(lambda x:-1 if(pd.isnull(x)) else x)\n",
    "test_data['education']=test_data['education'].apply(lambda x:0 if(x=='Bachelor\\'s' and (pd.notnull(x))) else 1)\n",
    "test_data['previous_year_rating']=test_data['previous_year_rating'].apply(lambda x:0.0 if(pd.isnull(x)) else x)\n",
    "test_data['department']=test_data['department'].apply(lambda x:1 if(x=='Sales & Marketing') else x)\n",
    "test_data['department']=test_data['department'].apply(lambda x:2 if(x=='Operations') else x)\n",
    "test_data['department']=test_data['department'].apply(lambda x:3 if(x=='Technology') else x)\n",
    "test_data['department']=test_data['department'].apply(lambda x:4 if(x=='Analytics') else x)\n",
    "test_data['department']=test_data['department'].apply(lambda x:5 if(x=='R&D') else x)\n",
    "test_data['department']=test_data['department'].apply(lambda x:6 if(x=='Procurement') else x)\n",
    "test_data['department']=test_data['department'].apply(lambda x:7 if(x=='Finance') else x)\n",
    "test_data['department']=test_data['department'].apply(lambda x:8 if(x=='HR') else x)\n",
    "test_data['department']=test_data['department'].apply(lambda x:9 if(x=='Legal') else x)"
   ]
  },
  {
   "cell_type": "code",
   "execution_count": 8,
   "metadata": {},
   "outputs": [],
   "source": [
    "X_train=train_data[['department','education','gender'\n",
    "  ,'recruitment_channel','no_of_trainings','age'\n",
    "  ,'previous_year_rating','length_of_service','KPIs_met',\n",
    "  'awards_won','avg_training_score']]"
   ]
  },
  {
   "cell_type": "code",
   "execution_count": 9,
   "metadata": {},
   "outputs": [],
   "source": [
    "y_train=train_data[['is_promoted']]"
   ]
  },
  {
   "cell_type": "code",
   "execution_count": 10,
   "metadata": {},
   "outputs": [],
   "source": [
    "X_test=test_data[['department','education','gender'\n",
    "  ,'recruitment_channel','no_of_trainings','age'\n",
    "  ,'previous_year_rating','length_of_service','KPIs_met',\n",
    "  'awards_won','avg_training_score']]"
   ]
  },
  {
   "cell_type": "code",
   "execution_count": 11,
   "metadata": {},
   "outputs": [],
   "source": [
    "y_train=train_data[['is_promoted']]"
   ]
  },
  {
   "cell_type": "code",
   "execution_count": null,
   "metadata": {},
   "outputs": [
    {
     "name": "stdout",
     "output_type": "stream",
     "text": [
      "Epoch 1/100\n",
      " - 3s - loss: 1.3728 - acc: 0.9148\n",
      "Epoch 2/100\n",
      " - 2s - loss: 1.3728 - acc: 0.9148\n",
      "Epoch 3/100\n",
      " - 2s - loss: 1.3728 - acc: 0.9148\n",
      "Epoch 4/100\n",
      " - 2s - loss: 1.3728 - acc: 0.9148\n",
      "Epoch 5/100\n",
      " - 2s - loss: 1.3728 - acc: 0.9148\n",
      "Epoch 6/100\n",
      " - 2s - loss: 1.3728 - acc: 0.9148\n",
      "Epoch 7/100\n",
      " - 2s - loss: 1.3728 - acc: 0.9148\n",
      "Epoch 8/100\n",
      " - 2s - loss: 1.3728 - acc: 0.9148\n",
      "Epoch 9/100\n",
      " - 2s - loss: 1.3728 - acc: 0.9148\n",
      "Epoch 10/100\n",
      " - 3s - loss: 1.3728 - acc: 0.9148\n",
      "Epoch 11/100\n",
      " - 2s - loss: 1.3728 - acc: 0.9148\n",
      "Epoch 12/100\n",
      " - 2s - loss: 1.3728 - acc: 0.9148\n",
      "Epoch 13/100\n",
      " - 2s - loss: 1.3728 - acc: 0.9148\n",
      "Epoch 14/100\n",
      " - 2s - loss: 1.3728 - acc: 0.9148\n",
      "Epoch 15/100\n",
      " - 2s - loss: 1.3728 - acc: 0.9148\n",
      "Epoch 16/100\n",
      " - 2s - loss: 1.3728 - acc: 0.9148\n",
      "Epoch 17/100\n",
      " - 2s - loss: 1.3728 - acc: 0.9148\n",
      "Epoch 18/100\n",
      " - 2s - loss: 1.3728 - acc: 0.9148\n",
      "Epoch 19/100\n",
      " - 2s - loss: 1.3728 - acc: 0.9148\n",
      "Epoch 20/100\n",
      " - 2s - loss: 1.3728 - acc: 0.9148\n",
      "Epoch 21/100\n",
      " - 2s - loss: 1.3728 - acc: 0.9148\n",
      "Epoch 22/100\n",
      " - 2s - loss: 1.3728 - acc: 0.9148\n",
      "Epoch 23/100\n",
      " - 2s - loss: 1.3728 - acc: 0.9148\n",
      "Epoch 24/100\n",
      " - 2s - loss: 1.3728 - acc: 0.9148\n",
      "Epoch 25/100\n",
      " - 2s - loss: 1.3728 - acc: 0.9148\n",
      "Epoch 26/100\n",
      " - 2s - loss: 1.3728 - acc: 0.9148\n",
      "Epoch 27/100\n"
     ]
    }
   ],
   "source": [
    "model = Sequential()\n",
    "# 16 Neurons, expects input of 11 features. \n",
    "# Play around with the number of neurons!!\n",
    "model.add(Dense(11, input_dim=11, activation='relu'))\n",
    "# Add another Densely Connected layer (every neuron connected to every neuron in the next layer)\n",
    "model.add(Dense(16, activation='relu'))\n",
    "# Last layer simple sigmoid function to output 0 or 1 (our label)\n",
    "model.add(Dense(1, activation='sigmoid'))\n",
    "\n",
    "model.compile(loss='binary_crossentropy', optimizer='adam',metrics=['accuracy'])\n",
    "\n",
    "model.fit(X_train,y_train,epochs=100,verbose=2)\n",
    "\n",
    "predictions=model.predict_classes(X_test)\n",
    "\n",
    "test_data['is_promoted']=predictions\n",
    "\n",
    "test_data[['employee_id','is_promoted']].to_csv(\"Submissions.csv\",index=False)"
   ]
  },
  {
   "cell_type": "code",
   "execution_count": null,
   "metadata": {},
   "outputs": [],
   "source": []
  }
 ],
 "metadata": {
  "kernelspec": {
   "display_name": "Python 3",
   "language": "python",
   "name": "python3"
  },
  "language_info": {
   "codemirror_mode": {
    "name": "ipython",
    "version": 3
   },
   "file_extension": ".py",
   "mimetype": "text/x-python",
   "name": "python",
   "nbconvert_exporter": "python",
   "pygments_lexer": "ipython3",
   "version": "3.7.3"
  }
 },
 "nbformat": 4,
 "nbformat_minor": 2
}
